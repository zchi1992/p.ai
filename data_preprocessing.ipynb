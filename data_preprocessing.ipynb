{
 "cells": [
  {
   "cell_type": "code",
   "execution_count": 2,
   "metadata": {
    "collapsed": true
   },
   "outputs": [],
   "source": [
    "import pandas as pd\n",
    "import os"
   ]
  },
  {
   "cell_type": "code",
   "execution_count": 15,
   "metadata": {},
   "outputs": [],
   "source": [
    "dt1 = pd.read_csv(\"Data\\\\data\\\\P.AI\\\\Data\\\\Disease_Raw_Data\\\\Vetary\\\\cat_clean_data.csv\")\n",
    "dt2 = pd.read_csv(\"Data\\\\data\\\\P.AI\\\\Data\\\\Disease_Raw_Data\\\\Vetary\\\\Dog_clean_data.csv\")"
   ]
  },
  {
   "cell_type": "code",
   "execution_count": 16,
   "metadata": {},
   "outputs": [],
   "source": [
    "dt1 = dt1.drop(\"ID\", axis = 1)\n",
    "dt2 = dt2.drop(\"ID\", axis = 1)\n",
    "\n",
    "col_names = [col.lower() for col in dt1.columns.values]\n",
    "dt1.columns = col_names\n",
    "dt2.columns = col_names"
   ]
  },
  {
   "cell_type": "code",
   "execution_count": 72,
   "metadata": {},
   "outputs": [],
   "source": [
    "data_vetary = pd.concat([dt1, dt2])"
   ]
  },
  {
   "cell_type": "code",
   "execution_count": 73,
   "metadata": {},
   "outputs": [],
   "source": [
    "data_vetary = data_vetary.reset_index(drop=True)"
   ]
  },
  {
   "cell_type": "code",
   "execution_count": 75,
   "metadata": {
    "scrolled": true
   },
   "outputs": [],
   "source": [
    "# write to database and csv file\n",
    "# db\n",
    "import sqlite3\n",
    "db_path = os.path.join(os.getcwd(), 'WebApplication\\\\dev\\\\pai\\\\pai.db')\n",
    "conn = sqlite3.connect(db_path)\n",
    "# create table\n",
    "conn.cursor().execute('drop table if exists vetary')\n",
    "conn.cursor().execute('create table vetary (\\\n",
    "                         id integer primary key autoincrement, \\\n",
    "                         category text not null, \\\n",
    "                         disease text, \\\n",
    "                         symptoms_key text, \\\n",
    "                         introduction text, \\\n",
    "                         symptoms_detailed1 text, \\\n",
    "                         symptoms_detailed2 text, \\\n",
    "                         causes text, \\\n",
    "                         diagnosis text, \\\n",
    "                         treatment text, \\\n",
    "                         recovery text, \\\n",
    "                         cost text)')\n",
    "\n",
    "for _, row in data_vetary.iterrows():\n",
    "    conn.cursor().execute('insert into vetary (category, \\\n",
    "                             disease, \\\n",
    "                             symptoms_key, \\\n",
    "                             introduction, \\\n",
    "                             symptoms_detailed1, \\\n",
    "                             symptoms_detailed2, \\\n",
    "                             causes, \\\n",
    "                             diagnosis, \\\n",
    "                             treatment, \\\n",
    "                             recovery, \\\n",
    "                             cost) \\\n",
    "                             values (?,?,?,?,?,?,?,?,?,?,?)', row)\n",
    "conn.commit()\n",
    "conn.close()"
   ]
  }
 ],
 "metadata": {
  "kernelspec": {
   "display_name": "Python 3",
   "language": "python",
   "name": "python3"
  },
  "language_info": {
   "codemirror_mode": {
    "name": "ipython",
    "version": 3
   },
   "file_extension": ".py",
   "mimetype": "text/x-python",
   "name": "python",
   "nbconvert_exporter": "python",
   "pygments_lexer": "ipython3",
   "version": "3.6.2"
  }
 },
 "nbformat": 4,
 "nbformat_minor": 2
}
